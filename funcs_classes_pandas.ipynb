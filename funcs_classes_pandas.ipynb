{
 "cells": [
  {
   "cell_type": "markdown",
   "metadata": {},
   "source": [
    "# Functions\n",
    "\n",
    "Functions are an essential part of coding, and are a way of defining a procedure that you can reuse. They are incredibly helpful in writing clean, readable, and reusable code. I would encourage you to code using functions (or classes) whenever you can. \n",
    "\n",
    "Python has a very large number of built-in functions, as well as a vast repository of modules/libraries through which other functions (as well as classes) are available. Check out the [built-in function docs](https://docs.python.org/2/library/functions.html) to see all of the built-in functions that are available to use. One of the other libraries whose functions I use regularly is the [itertools](https://docs.python.org/2/library/itertools.html) library. \n",
    "\n",
    "From a top-down level, functions name a piece of code that takes an argument/arguments and allows you to write \"tiny commands\". The purpose/use of a functions should typically be able to be described in one sentence, and on average functions should probably be no longer than 10 lines. \n",
    "\n",
    "### How do I create them?\n",
    "\n",
    "Functions are defined using a `def` statement, followed by the name that you wish to give the function (this name must follow variable naming conventions), followed by a set of parentheses that contain any potential arguments that may be passed to the function. After that set of parentheses, we place a colon, and then finally we get to write our function code. This function code will fall on one or more indented lines (note that the indentation is **crucial**). \n",
    "\n",
    "```python \n",
    "def my_func(passed_arg1, passed_arg2, passed_arg3): \n",
    "    # code goes here \n",
    "    pass\n",
    "```\n",
    "\n",
    "Note that we don't have to pass any arguments if we don't want to: \n",
    "\n",
    "```python \n",
    "def my_func_no_args(): \n",
    "    print 'There are no args passed :) ' \n",
    "```"
   ]
  },
  {
   "cell_type": "markdown",
   "metadata": {},
   "source": [
    "### Examples"
   ]
  },
  {
   "cell_type": "code",
   "execution_count": 6,
   "metadata": {
    "collapsed": false
   },
   "outputs": [
    {
     "name": "stdout",
     "output_type": "stream",
     "text": [
      "False\n",
      "True\n"
     ]
    }
   ],
   "source": [
    "def is_palindrome(word): \n",
    "    '''\n",
    "    Input: String\n",
    "    Output: Bool\n",
    "    \n",
    "    Return whether or not the inputted word is a palindrome. \n",
    "    '''\n",
    "    \n",
    "    # Note we use return to return something back from the function. \n",
    "    return word == word[::-1]\n",
    "\n",
    "print is_palindrome('hello')\n",
    "print is_palindrome('racecar')"
   ]
  },
  {
   "cell_type": "code",
   "execution_count": 5,
   "metadata": {
    "collapsed": false
   },
   "outputs": [
    {
     "name": "stdout",
     "output_type": "stream",
     "text": [
      "[1, 2, 5, 10]\n",
      "[1, 2, 4, 5, 10, 20, 25, 50, 100]\n"
     ]
    }
   ],
   "source": [
    "def get_divisors(number):\n",
    "    '''\n",
    "    Input: Integer\n",
    "    Output: List\n",
    "\n",
    "    Return a list of the divisors of the inputted number\n",
    "    '''\n",
    "    # The return statement can return any kind of data structure. \n",
    "    return [divisor for divisor in xrange(1, number + 1) if number % divisor == 0]\n",
    "\n",
    "print get_divisors(10)\n",
    "print get_divisors(100)"
   ]
  },
  {
   "cell_type": "markdown",
   "metadata": {},
   "source": [
    "### Variable Scope\n",
    "\n",
    "Variable scope is an important concept to consider when building functions. There is a good chance that if you've built a function and are 100% sure that the code is written correctly but you're still getting the wrong result, you are dealing with a scope issue. \n",
    "\n",
    "**Variable scope** determines the part (or block) of the program in which that variable is visible. We typically refer to one of two scopes of variables - **global** scope and **local** scope. A variable with **global** scope is visible everywhere and can be used by any function, while a variable with **local** scope is visible only in the function in which it was defined. \n"
   ]
  },
  {
   "cell_type": "code",
   "execution_count": 58,
   "metadata": {
    "collapsed": true
   },
   "outputs": [],
   "source": [
    "my_global_var = 'This is a global variable.'\n",
    "\n",
    "def scoping_func(): \n",
    "    my_local_var = 'This is a local variable, only usable in the scoping_func.'\n",
    "    print my_local_var"
   ]
  },
  {
   "cell_type": "code",
   "execution_count": 56,
   "metadata": {
    "collapsed": false
   },
   "outputs": [
    {
     "name": "stdout",
     "output_type": "stream",
     "text": [
      "This is a global variable.\n"
     ]
    }
   ],
   "source": [
    "print my_global_var"
   ]
  },
  {
   "cell_type": "code",
   "execution_count": 57,
   "metadata": {
    "collapsed": false
   },
   "outputs": [
    {
     "ename": "NameError",
     "evalue": "name 'my_local_var' is not defined",
     "output_type": "error",
     "traceback": [
      "\u001b[0;31m---------------------------------------------------------------------------\u001b[0m",
      "\u001b[0;31mNameError\u001b[0m                                 Traceback (most recent call last)",
      "\u001b[0;32m<ipython-input-57-b0b2b2a41781>\u001b[0m in \u001b[0;36m<module>\u001b[0;34m()\u001b[0m\n\u001b[0;32m----> 1\u001b[0;31m \u001b[0;32mprint\u001b[0m \u001b[0mmy_local_var\u001b[0m\u001b[0;34m\u001b[0m\u001b[0m\n\u001b[0m",
      "\u001b[0;31mNameError\u001b[0m: name 'my_local_var' is not defined"
     ]
    }
   ],
   "source": [
    "print my_local_var"
   ]
  },
  {
   "cell_type": "code",
   "execution_count": 59,
   "metadata": {
    "collapsed": false
   },
   "outputs": [
    {
     "name": "stdout",
     "output_type": "stream",
     "text": [
      "This is a local variable, only usable in the scoping_func.\n"
     ]
    }
   ],
   "source": [
    "scoping_func()"
   ]
  },
  {
   "cell_type": "markdown",
   "metadata": {},
   "source": [
    "### Variable Scope Part Two\n",
    "\n",
    "When **referencing** a variable in an expression, Python will search the following scopes to resolve the reference: \n",
    "\n",
    "1.) The current function's scope.   \n",
    "2.) Any enclosing scopes (like other containing functions).   \n",
    "3.) The scope of the module that contains the code (also called *global scope*).   \n",
    "4.) The built-in scope (contains the built-in functions).  \n",
    "\n",
    "When **assigning** a value to a variable, things work a little bit differently. If the variable is **already defined** in the current scope, then it will just take on the new value that you assign it. However, if it is **not defined** in the **current** scope, then Python treats the assignment as a variable definition. Let's take a look at how this plays out..."
   ]
  },
  {
   "cell_type": "code",
   "execution_count": 7,
   "metadata": {
    "collapsed": false
   },
   "outputs": [
    {
     "name": "stdout",
     "output_type": "stream",
     "text": [
      "False\n",
      "False\n",
      "False\n",
      "False\n",
      "False\n"
     ]
    }
   ],
   "source": [
    "# This 'found' is in the global scope, so everything has access to it. \n",
    "found = True\n",
    "def find_number(numbers_lst, search_number): \n",
    "    # This 'found' is in the scope of 'find_number', and anything that is enclosed in it. \n",
    "    found = False\n",
    "    def inner_func(): \n",
    "        for num in numbers_lst:      \n",
    "            # This has access to the current function's scope and anything above it. So when \n",
    "            # it looks for the 'found' variable, it doesn't find it in the 'innner_func' scope, \n",
    "            # but does find it in the containing function's ('find_number') scope. Since it \n",
    "            # find's it in the 'find_number' scope, it doesn't keep looking, and so it never \n",
    "            # find's the one in the global scope. \n",
    "            print found\n",
    "    inner_func()\n",
    "        \n",
    "find_number([1, 2, 3, 4, 5], 3)"
   ]
  },
  {
   "cell_type": "code",
   "execution_count": 69,
   "metadata": {
    "collapsed": false
   },
   "outputs": [
    {
     "name": "stdout",
     "output_type": "stream",
     "text": [
      "False\n"
     ]
    }
   ],
   "source": [
    "def find_number(numbers_lst, search_number): \n",
    "    # This 'found' is in the scope of 'find_number', and anything that is enclosed in it. \n",
    "    found = False\n",
    "    def inner_func(): \n",
    "        for num in numbers_lst:  \n",
    "            found = True if num == search_number else False\n",
    "    inner_func()\n",
    "    return found\n",
    "        \n",
    "print find_number([1, 2, 3, 4, 5], 3)"
   ]
  },
  {
   "cell_type": "markdown",
   "metadata": {},
   "source": [
    "### Giving arguments default values\n",
    "\n",
    "If you'd like, you can give your function arguments default values. You do this within the function definition statement: \n",
    "\n",
    "```python \n",
    "def find_number(numbers_lst, search_number=3):\n",
    "    for num in numbers_lst: \n",
    "        if num == search_number: \n",
    "            print 'Found'\n",
    "```\n",
    "\n",
    "The way this works is that if the caller of your function passes in a value for search_number, the function uses that. If the caller doesn't pass in a value for search_number, then your function uses the default value that you gave it. \n",
    "\n",
    "Note that you can also call your functions with either positional arguments (like I have done up until now), or with keyword arguments. The only stipulation is that all positional arguments must be placed before all keyword arguments (i.e. you can't call your function with a keyword argument placed before a positional argument). "
   ]
  },
  {
   "cell_type": "code",
   "execution_count": 39,
   "metadata": {
    "collapsed": false
   },
   "outputs": [
    {
     "ename": "SyntaxError",
     "evalue": "non-keyword arg after keyword arg (<ipython-input-39-7fb3b12a3762>, line 9)",
     "output_type": "error",
     "traceback": [
      "\u001b[0;36m  File \u001b[0;32m\"<ipython-input-39-7fb3b12a3762>\"\u001b[0;36m, line \u001b[0;32m9\u001b[0m\n\u001b[0;31m    find_number(numbers_lst=[1, 2, 3, 4, 5], 4) # Not okay, because we specified a keyword argument before a positional.\u001b[0m\n\u001b[0;31mSyntaxError\u001b[0m\u001b[0;31m:\u001b[0m non-keyword arg after keyword arg\n"
     ]
    }
   ],
   "source": [
    "def find_number(numbers_lst, search_number=3):\n",
    "    for num in numbers_lst: \n",
    "        if num == search_number: \n",
    "            print 'Found'\n",
    "\n",
    "find_number([1, 2, 3, 4, 5]) # Okay because we specified default value. \n",
    "find_number([1, 2, 3, 4, 5], 4) # The second passed argument (4) overrides the default 3. \n",
    "find_number([1, 2, 3, 4, 5], search_number=4) # Okay because all positional arguments specified first. \n",
    "find_number(numbers_lst=[1, 2, 3, 4, 5], 4) # Not okay, because we specified a keyword argument before a positional."
   ]
  },
  {
   "cell_type": "markdown",
   "metadata": {},
   "source": [
    "### *args and *kwargs\n",
    "\n",
    "The use of `*args` and `**kwargs` is something that you might see or use with your function. This is one of the really nice features of Python (although I don't use it often); it allows your functions to accept an arbitrary number of optional arguments. `*args` allows you to accept an arbitrary of number of optional positional arguments, where as `**kwargs`, which stands for *keyword arguments*, allows you to accept an arbitrary number of optional keyword arguments. "
   ]
  },
  {
   "cell_type": "code",
   "execution_count": 79,
   "metadata": {
    "collapsed": false
   },
   "outputs": [],
   "source": [
    "def args_func(first_arg, *args): \n",
    "    print first_arg\n",
    "    for arg in args: \n",
    "        print arg"
   ]
  },
  {
   "cell_type": "code",
   "execution_count": 80,
   "metadata": {
    "collapsed": false
   },
   "outputs": [
    {
     "name": "stdout",
     "output_type": "stream",
     "text": [
      "1\n"
     ]
    }
   ],
   "source": [
    "args_func(1)"
   ]
  },
  {
   "cell_type": "code",
   "execution_count": 81,
   "metadata": {
    "collapsed": false
   },
   "outputs": [
    {
     "name": "stdout",
     "output_type": "stream",
     "text": [
      "2\n",
      "3\n",
      "4\n",
      "5\n"
     ]
    }
   ],
   "source": [
    "args_func(1, 2, 3, 4)"
   ]
  },
  {
   "cell_type": "code",
   "execution_count": 89,
   "metadata": {
    "collapsed": false
   },
   "outputs": [
    {
     "name": "stdout",
     "output_type": "stream",
     "text": [
      "1\n",
      "[2, 3, 4]\n"
     ]
    }
   ],
   "source": [
    "args_func(1, [2, 3, 4])"
   ]
  },
  {
   "cell_type": "code",
   "execution_count": 104,
   "metadata": {
    "collapsed": true
   },
   "outputs": [],
   "source": [
    "def kwargs_func(first_arg, **kwargs): \n",
    "    print first_arg\n",
    "    for kwarg, value in kwargs.iteritems(): \n",
    "        print kwarg, value"
   ]
  },
  {
   "cell_type": "code",
   "execution_count": 98,
   "metadata": {
    "collapsed": false
   },
   "outputs": [
    {
     "name": "stdout",
     "output_type": "stream",
     "text": [
      "1\n",
      "{}\n"
     ]
    }
   ],
   "source": [
    "kwargs_func(1)"
   ]
  },
  {
   "cell_type": "code",
   "execution_count": 99,
   "metadata": {
    "collapsed": false
   },
   "outputs": [
    {
     "ename": "TypeError",
     "evalue": "kwargs_func() takes exactly 1 argument (4 given)",
     "output_type": "error",
     "traceback": [
      "\u001b[0;31m---------------------------------------------------------------------------\u001b[0m",
      "\u001b[0;31mTypeError\u001b[0m                                 Traceback (most recent call last)",
      "\u001b[0;32m<ipython-input-99-6a6dffd7d4b0>\u001b[0m in \u001b[0;36m<module>\u001b[0;34m()\u001b[0m\n\u001b[0;32m----> 1\u001b[0;31m \u001b[0mkwargs_func\u001b[0m\u001b[0;34m(\u001b[0m\u001b[0;36m1\u001b[0m\u001b[0;34m,\u001b[0m \u001b[0;36m2\u001b[0m\u001b[0;34m,\u001b[0m \u001b[0;36m3\u001b[0m\u001b[0;34m,\u001b[0m \u001b[0;36m4\u001b[0m\u001b[0;34m)\u001b[0m\u001b[0;34m\u001b[0m\u001b[0m\n\u001b[0m",
      "\u001b[0;31mTypeError\u001b[0m: kwargs_func() takes exactly 1 argument (4 given)"
     ]
    }
   ],
   "source": [
    "kwargs_func(1, 2, 3, 4)"
   ]
  },
  {
   "cell_type": "code",
   "execution_count": 105,
   "metadata": {
    "collapsed": false
   },
   "outputs": [
    {
     "name": "stdout",
     "output_type": "stream",
     "text": [
      "1\n",
      "second_arg 2\n",
      "fourth_arg 4\n",
      "third_arg 3\n"
     ]
    }
   ],
   "source": [
    "kwargs_func(1, second_arg=2, third_arg=3, fourth_arg=4)"
   ]
  },
  {
   "cell_type": "markdown",
   "metadata": {
    "collapsed": true
   },
   "source": [
    "# OOP and Classes"
   ]
  },
  {
   "cell_type": "markdown",
   "metadata": {},
   "source": [
    "From [wikipedia](https://en.wikipedia.org/wiki/Object-oriented_programming): \"Object-oriented programming (OOP) is a programming paradigm based on the concept of \"objects\", which are data structures that contain data, in the form of fields, often known as attributes; and code, in the form of procedures, often known as methods.\"\n",
    "\n",
    "Object-oriented programming has many benefits (see *encapsulation*, *polymorphism*, and *inheritance* in the wiki), but it also kind of matches how we think about the world. The world is composed of *objects*, where objects can be people, houses, cars, buildings, etc. These *objects* have some properties about them (i.e. they contain data), and they can do things (i.e. they have methods that can be applied). Object oriented programming approaches a programming problem by using objects that interact with each other, much like they do in the real world. \n",
    "\n",
    "### Some Terminology \n",
    "\n",
    "1.) **Class** - used to refer to the abstract concept of an object.  \n",
    "2.) **Object** - An actual instance of a class.   \n",
    "3.) **Instance** - What Python returns when you tell it to create a class.   \n",
    "4.) **self** - Inside of a class, a variable for the instance/object being accessed (i.e. it holds a reference to the instance/object of that class).  \n",
    "5.) **attribute** / **field** / **property** - A property or piece of data that a class has, stored in a variable. All attributes/fields/properties within a class are assigned via self.  \n",
    "6.) **method** / **procedure** - A block of code that is accessible via the class, and typically acts on or with the classes attributes/fields/properties. All methods/procedures within a class are created via def. (they are really just functions). \n",
    "\n",
    "From here on out, I will treat attribute, field, and property as interchangeable, and I'll do the same with method and procedure. \n",
    "\n",
    "### Defining a Class \n",
    "\n",
    "Much like defining a function, there is a common format to defining a class. It is almost exactly the same as defining a function, but we replace `def` with `class`. That is, we write `class`, then the name of the class that we are defining, followed by a set of parentheses, and finally a colon. After the colon is an indented block of code that we use to define the class attributes and methods. One subtle difference is that with functions, the standard is to name these beginning in lowercase and seperating words with underscores, while with classes, the standard is to name these beginning in uppercase, and not separate words at all. \n",
    "\n",
    "```python \n",
    "class MyClass(): \n",
    "    # Attributes and methods go in here. \n",
    "```\n",
    "\n",
    "### Instantiation\n",
    "\n",
    "Instantiation is just a fancy word for saying that we're going to create an instance of a particular class. \n",
    "\n",
    "```python \n",
    "my_class = MyClass() # Now we have my_class as an instance of MyClass\n",
    "```\n",
    "\n",
    "### Inner Workings \n",
    "\n",
    "Inside of a class, we can have both *attributes* and *methods*. We can then think of these *attributes* and *methods* as belonging to the class, and they become accessible via any instances of the class (through dot notation, which we'll get to in a second). Inside of the class, all of these *attributes* and *methods* are set and retrieved via *self*. Let's dive in...\n",
    "\n",
    "##### The \\__init\\__() method \n",
    "\n",
    "Almost every class you ever write will have an \\__init\\__() method. This method gets called every time that you create a new instance of a class, and handles any kind of setup that the class may require. Setup typically just involves assigning values to variables, which we can do with or without passing values in. "
   ]
  },
  {
   "cell_type": "code",
   "execution_count": 8,
   "metadata": {
    "collapsed": false
   },
   "outputs": [
    {
     "name": "stdout",
     "output_type": "stream",
     "text": [
      "Data Science\n"
     ]
    }
   ],
   "source": [
    "class MyClass(): \n",
    "    \n",
    "    def __init__(self):\n",
    "        # No values have been passed in here. \n",
    "        self.meetup_name = 'Data Science'\n",
    "\n",
    "my_class = MyClass()\n",
    "print my_class.meetup_name # Note the dot notation here to access the 'meetup_name' field. "
   ]
  },
  {
   "cell_type": "code",
   "execution_count": 14,
   "metadata": {
    "collapsed": false
   },
   "outputs": [
    {
     "name": "stdout",
     "output_type": "stream",
     "text": [
      "Data Science\n"
     ]
    }
   ],
   "source": [
    "class MyClass(): \n",
    "    \n",
    "    def __init__(self, meetup_name):\n",
    "        # Here we passed the value that will be assigned in. Note the assignment using self. \n",
    "        self.meetup_name = meetup_name\n",
    "\n",
    "my_class = MyClass('Data Science')\n",
    "print my_class.meetup_name"
   ]
  },
  {
   "cell_type": "markdown",
   "metadata": {},
   "source": [
    "##### What happens if we don't use self?"
   ]
  },
  {
   "cell_type": "code",
   "execution_count": 15,
   "metadata": {
    "collapsed": false
   },
   "outputs": [
    {
     "ename": "AttributeError",
     "evalue": "MyClass instance has no attribute 'meetup_name'",
     "output_type": "error",
     "traceback": [
      "\u001b[0;31m---------------------------------------------------------------------------\u001b[0m",
      "\u001b[0;31mAttributeError\u001b[0m                            Traceback (most recent call last)",
      "\u001b[0;32m<ipython-input-15-1c6f32a57c1e>\u001b[0m in \u001b[0;36m<module>\u001b[0;34m()\u001b[0m\n\u001b[1;32m      6\u001b[0m \u001b[0;34m\u001b[0m\u001b[0m\n\u001b[1;32m      7\u001b[0m \u001b[0mmy_class\u001b[0m \u001b[0;34m=\u001b[0m \u001b[0mMyClass\u001b[0m\u001b[0;34m(\u001b[0m\u001b[0;34m'Data Science'\u001b[0m\u001b[0;34m)\u001b[0m\u001b[0;34m\u001b[0m\u001b[0m\n\u001b[0;32m----> 8\u001b[0;31m \u001b[0;32mprint\u001b[0m \u001b[0mmy_class\u001b[0m\u001b[0;34m.\u001b[0m\u001b[0mmeetup_name\u001b[0m\u001b[0;34m\u001b[0m\u001b[0m\n\u001b[0m",
      "\u001b[0;31mAttributeError\u001b[0m: MyClass instance has no attribute 'meetup_name'"
     ]
    }
   ],
   "source": [
    "class MyClass(): \n",
    "    \n",
    "    def __init__(self, meetup_name):\n",
    "        # Here we passed the value that will be assigned in. \n",
    "        meetup_name = meetup_name\n",
    "\n",
    "my_class = MyClass('Data Science')\n",
    "print my_class.meetup_name"
   ]
  },
  {
   "cell_type": "markdown",
   "metadata": {},
   "source": [
    "#### Magic Methods\n",
    "\n",
    "The \\__init\\__()  method is a special type of [**magic method**](http://www.rafekettler.com/magicmethods.html). Magic methods allow you to build a lot of functionality into your classes, most of which allow you to interact with your classes using a lot of the built-in functions. I have personally never used these in my day to day, but the \\__len\\__(), \\__str\\__(), \\__repr__\\() ones are pretty common. The first lets you use the len() function on instances of your class, and the second to allow you to define a readable display of an instance of your class (used when printing or applying the str() function). \n",
    "\n",
    "#### Other Methods \n",
    "\n",
    "We can of course define other methods of our classes..."
   ]
  },
  {
   "cell_type": "code",
   "execution_count": 17,
   "metadata": {
    "collapsed": false
   },
   "outputs": [
    {
     "name": "stdout",
     "output_type": "stream",
     "text": [
      "Data Science\n",
      "[]\n",
      "[]\n"
     ]
    }
   ],
   "source": [
    "class MyClass(): \n",
    "    \n",
    "    def __init__(self, meetup_name='Data Science'):\n",
    "        # Here we passed the value that will be assigned in. \n",
    "        self.meetup_name = meetup_name\n",
    "        self.meetup_questions = []\n",
    "        self.meetup_answers = []\n",
    "    \n",
    "    def add_question(self, question):\n",
    "        # Note the referal to the meetup_questions field via self. \n",
    "        self.meetup_questions.append(question)\n",
    "    \n",
    "    def add_answer(self, answer): \n",
    "        self.meetup_answers.append(answer)\n",
    "        \n",
    "my_class = MyClass()\n",
    "print my_class.meetup_name\n",
    "print my_class.meetup_questions\n",
    "print my_class.meetup_answers"
   ]
  },
  {
   "cell_type": "code",
   "execution_count": 18,
   "metadata": {
    "collapsed": false
   },
   "outputs": [],
   "source": [
    "my_class.add_question('What question should I ask?')\n",
    "my_class.add_answer('Think of anything!')"
   ]
  },
  {
   "cell_type": "code",
   "execution_count": 19,
   "metadata": {
    "collapsed": false
   },
   "outputs": [
    {
     "name": "stdout",
     "output_type": "stream",
     "text": [
      "Data Science\n",
      "['What question should I ask?']\n",
      "['Think of anything!']\n"
     ]
    }
   ],
   "source": [
    "print my_class.meetup_name\n",
    "print my_class.meetup_questions\n",
    "print my_class.meetup_answers"
   ]
  },
  {
   "cell_type": "markdown",
   "metadata": {},
   "source": [
    "### Using Multiple Objects\n",
    "\n",
    "That's the whole point of them, right?"
   ]
  },
  {
   "cell_type": "code",
   "execution_count": 52,
   "metadata": {
    "collapsed": true
   },
   "outputs": [],
   "source": [
    "class Member(): \n",
    "    \n",
    "    def __init__(self, name): \n",
    "        self.name = name\n",
    "        self.questions_asked = []\n",
    "        self.question_answers = []\n",
    "    \n",
    "    def add_question(self, question): \n",
    "        self.questions_asked.append(question)\n",
    "    \n",
    "    def add_answer(self, question): \n",
    "        self.question_answers.append(question)\n",
    "        \n",
    "class MyClass(): \n",
    "    \n",
    "    def __init__(self, name='Data Science'): \n",
    "        self.name = name\n",
    "        self.members = []\n",
    "    \n",
    "    def num_questions_asked(self): \n",
    "        total_questions = 0\n",
    "        for member in members: \n",
    "            total_questions += len(member.questions_asked)\n",
    "        \n",
    "        return total_questions\n",
    "        \n",
    "    def num_questions_answered(self): \n",
    "        total_questions = 0\n",
    "        for member in members: \n",
    "            total_questions += len(member.question_answers)\n",
    "        \n",
    "        return total_questions"
   ]
  },
  {
   "cell_type": "code",
   "execution_count": 53,
   "metadata": {
    "collapsed": false
   },
   "outputs": [
    {
     "name": "stdout",
     "output_type": "stream",
     "text": [
      "Data Science\n",
      "Josh\n",
      "Joanna\n",
      "Sean\n"
     ]
    }
   ],
   "source": [
    "# Create some members. \n",
    "josh = Member('Josh')\n",
    "joanna = Member('Joanna')\n",
    "sean = Member('Sean')\n",
    "members = [josh, joanna, sean]\n",
    "\n",
    "# Create a class and add the members to it. \n",
    "my_class = MyClass()\n",
    "my_class.members = members\n",
    "print my_class.name\n",
    "for member in my_class.members: \n",
    "    print member.name"
   ]
  },
  {
   "cell_type": "code",
   "execution_count": 54,
   "metadata": {
    "collapsed": false
   },
   "outputs": [
    {
     "name": "stdout",
     "output_type": "stream",
     "text": [
      "1\n",
      "1\n"
     ]
    }
   ],
   "source": [
    "josh.add_question('Hellooooo?')\n",
    "joanna.add_answer('???????')\n",
    "\n",
    "print my_class.num_questions_asked()\n",
    "print my_class.num_questions_answered()"
   ]
  },
  {
   "cell_type": "markdown",
   "metadata": {},
   "source": [
    "# Intro to Pandas \n",
    "\n",
    "Today in terms of Pandas, we're just going to look at how to get data into a DataFrame and how to look at that data. Pandas DataFrames are a class, and when we interact with these dataframes, we will be interacting with objects, accessing the dataframes fields just like we would any other objects, and manipulating the dataframe data via its methods. \n",
    "\n",
    "### Pandas Import \n",
    "\n",
    "```python\n",
    "import pandas as pd\n",
    "```\n",
    "\n",
    "### Loading External Data\n",
    "\n",
    "The [Pandas documentation](http://pandas.pydata.org/pandas-docs/stable/io.html) will show you all of the ways that you could load external data into a DataFrame. Basically, there is a way to load in data in any format that you might want to load it in from (CSV, JSON, SQL, Excel, HTML). All of these take some form of a `read_` method. So, if we wanted to load data in from a CSV, we would simply use: \n",
    "\n",
    "```python\n",
    "df = pd.read_csv('my_data.csv')\n",
    "```\n",
    "\n",
    "Note that you need to have the column names as the first row in the `.csv`. \n",
    "\n",
    "### Instantiating a DataFrame with data from your Python program\n",
    "\n",
    "If we are instantiating a DataFrame from data that already exists in our program, there are a couple of ways we can do this. One is by using the DataFrame constructor and passing in a list of dictionaries. Pandas will create columns with the names as the keys in the dictionary, and the values as the values in the dictionary. It will fill in values for any column that has a value present, and N/A's elsewhere. Another way of doing this is to pass in a list of lists of values as the `data` argument and another list as the `columns` argument."
   ]
  },
  {
   "cell_type": "code",
   "execution_count": 25,
   "metadata": {
    "collapsed": false
   },
   "outputs": [
    {
     "data": {
      "text/html": [
       "<div>\n",
       "<table border=\"1\" class=\"dataframe\">\n",
       "  <thead>\n",
       "    <tr style=\"text-align: right;\">\n",
       "      <th></th>\n",
       "      <th>a</th>\n",
       "      <th>b</th>\n",
       "      <th>c</th>\n",
       "      <th>d</th>\n",
       "    </tr>\n",
       "  </thead>\n",
       "  <tbody>\n",
       "    <tr>\n",
       "      <th>0</th>\n",
       "      <td>1</td>\n",
       "      <td>2</td>\n",
       "      <td>3</td>\n",
       "      <td>NaN</td>\n",
       "    </tr>\n",
       "    <tr>\n",
       "      <th>1</th>\n",
       "      <td>4</td>\n",
       "      <td>5</td>\n",
       "      <td>6</td>\n",
       "      <td>7</td>\n",
       "    </tr>\n",
       "  </tbody>\n",
       "</table>\n",
       "</div>"
      ],
      "text/plain": [
       "   a  b  c   d\n",
       "0  1  2  3 NaN\n",
       "1  4  5  6   7"
      ]
     },
     "execution_count": 25,
     "metadata": {},
     "output_type": "execute_result"
    }
   ],
   "source": [
    "import pandas as pd\n",
    "data_lst = [{'a': 1, 'b': 2, 'c':3}, {'a': 4, 'b':5, 'c':6, 'd':7}]\n",
    "df = pd.DataFrame(data_lst)\n",
    "df"
   ]
  },
  {
   "cell_type": "code",
   "execution_count": 27,
   "metadata": {
    "collapsed": false
   },
   "outputs": [
    {
     "data": {
      "text/html": [
       "<div>\n",
       "<table border=\"1\" class=\"dataframe\">\n",
       "  <thead>\n",
       "    <tr style=\"text-align: right;\">\n",
       "      <th></th>\n",
       "      <th>a</th>\n",
       "      <th>b</th>\n",
       "      <th>c</th>\n",
       "    </tr>\n",
       "  </thead>\n",
       "  <tbody>\n",
       "    <tr>\n",
       "      <th>0</th>\n",
       "      <td>1</td>\n",
       "      <td>2</td>\n",
       "      <td>3</td>\n",
       "    </tr>\n",
       "    <tr>\n",
       "      <th>1</th>\n",
       "      <td>4</td>\n",
       "      <td>5</td>\n",
       "      <td>6</td>\n",
       "    </tr>\n",
       "  </tbody>\n",
       "</table>\n",
       "</div>"
      ],
      "text/plain": [
       "   a  b  c\n",
       "0  1  2  3\n",
       "1  4  5  6"
      ]
     },
     "execution_count": 27,
     "metadata": {},
     "output_type": "execute_result"
    }
   ],
   "source": [
    "data_vals = [[1, 2, 3], [4, 5, 6]]\n",
    "data_cols = ['a', 'b', 'c']\n",
    "df = pd.DataFrame(data=data_vals, columns=data_cols)\n",
    "df"
   ]
  },
  {
   "cell_type": "markdown",
   "metadata": {},
   "source": [
    "### Looking at the data\n",
    "\n",
    "I got the following data to look at [here](http://archive.ics.uci.edu/ml/machine-learning-databases/forest-fires/). I'm just going to detail four methods for looking at our data: info(), describe(), head(), and tail(). "
   ]
  },
  {
   "cell_type": "code",
   "execution_count": 30,
   "metadata": {
    "collapsed": false
   },
   "outputs": [],
   "source": [
    "df = pd.read_csv('data/forestfires.csv')"
   ]
  },
  {
   "cell_type": "code",
   "execution_count": 33,
   "metadata": {
    "collapsed": false
   },
   "outputs": [
    {
     "name": "stdout",
     "output_type": "stream",
     "text": [
      "<class 'pandas.core.frame.DataFrame'>\n",
      "Int64Index: 517 entries, 0 to 516\n",
      "Data columns (total 13 columns):\n",
      "X        517 non-null int64\n",
      "Y        517 non-null int64\n",
      "month    517 non-null object\n",
      "day      517 non-null object\n",
      "FFMC     517 non-null float64\n",
      "DMC      517 non-null float64\n",
      "DC       517 non-null float64\n",
      "ISI      517 non-null float64\n",
      "temp     517 non-null float64\n",
      "RH       517 non-null int64\n",
      "wind     517 non-null float64\n",
      "rain     517 non-null float64\n",
      "area     517 non-null float64\n",
      "dtypes: float64(8), int64(3), object(2)\n",
      "memory usage: 56.5+ KB\n"
     ]
    }
   ],
   "source": [
    "# Gives us a very high level overview of our data. \n",
    "df.info()"
   ]
  },
  {
   "cell_type": "code",
   "execution_count": 35,
   "metadata": {
    "collapsed": false
   },
   "outputs": [
    {
     "data": {
      "text/html": [
       "<div>\n",
       "<table border=\"1\" class=\"dataframe\">\n",
       "  <thead>\n",
       "    <tr style=\"text-align: right;\">\n",
       "      <th></th>\n",
       "      <th>X</th>\n",
       "      <th>Y</th>\n",
       "      <th>FFMC</th>\n",
       "      <th>DMC</th>\n",
       "      <th>DC</th>\n",
       "      <th>ISI</th>\n",
       "      <th>temp</th>\n",
       "      <th>RH</th>\n",
       "      <th>wind</th>\n",
       "      <th>rain</th>\n",
       "      <th>area</th>\n",
       "    </tr>\n",
       "  </thead>\n",
       "  <tbody>\n",
       "    <tr>\n",
       "      <th>count</th>\n",
       "      <td>517.000000</td>\n",
       "      <td>517.000000</td>\n",
       "      <td>517.000000</td>\n",
       "      <td>517.000000</td>\n",
       "      <td>517.000000</td>\n",
       "      <td>517.000000</td>\n",
       "      <td>517.000000</td>\n",
       "      <td>517.000000</td>\n",
       "      <td>517.000000</td>\n",
       "      <td>517.000000</td>\n",
       "      <td>517.000000</td>\n",
       "    </tr>\n",
       "    <tr>\n",
       "      <th>mean</th>\n",
       "      <td>4.669246</td>\n",
       "      <td>4.299807</td>\n",
       "      <td>90.644681</td>\n",
       "      <td>110.872340</td>\n",
       "      <td>547.940039</td>\n",
       "      <td>9.021663</td>\n",
       "      <td>18.889168</td>\n",
       "      <td>44.288201</td>\n",
       "      <td>4.017602</td>\n",
       "      <td>0.021663</td>\n",
       "      <td>12.847292</td>\n",
       "    </tr>\n",
       "    <tr>\n",
       "      <th>std</th>\n",
       "      <td>2.313778</td>\n",
       "      <td>1.229900</td>\n",
       "      <td>5.520111</td>\n",
       "      <td>64.046482</td>\n",
       "      <td>248.066192</td>\n",
       "      <td>4.559477</td>\n",
       "      <td>5.806625</td>\n",
       "      <td>16.317469</td>\n",
       "      <td>1.791653</td>\n",
       "      <td>0.295959</td>\n",
       "      <td>63.655818</td>\n",
       "    </tr>\n",
       "    <tr>\n",
       "      <th>min</th>\n",
       "      <td>1.000000</td>\n",
       "      <td>2.000000</td>\n",
       "      <td>18.700000</td>\n",
       "      <td>1.100000</td>\n",
       "      <td>7.900000</td>\n",
       "      <td>0.000000</td>\n",
       "      <td>2.200000</td>\n",
       "      <td>15.000000</td>\n",
       "      <td>0.400000</td>\n",
       "      <td>0.000000</td>\n",
       "      <td>0.000000</td>\n",
       "    </tr>\n",
       "    <tr>\n",
       "      <th>25%</th>\n",
       "      <td>3.000000</td>\n",
       "      <td>4.000000</td>\n",
       "      <td>90.200000</td>\n",
       "      <td>68.600000</td>\n",
       "      <td>437.700000</td>\n",
       "      <td>6.500000</td>\n",
       "      <td>15.500000</td>\n",
       "      <td>33.000000</td>\n",
       "      <td>2.700000</td>\n",
       "      <td>0.000000</td>\n",
       "      <td>0.000000</td>\n",
       "    </tr>\n",
       "    <tr>\n",
       "      <th>50%</th>\n",
       "      <td>4.000000</td>\n",
       "      <td>4.000000</td>\n",
       "      <td>91.600000</td>\n",
       "      <td>108.300000</td>\n",
       "      <td>664.200000</td>\n",
       "      <td>8.400000</td>\n",
       "      <td>19.300000</td>\n",
       "      <td>42.000000</td>\n",
       "      <td>4.000000</td>\n",
       "      <td>0.000000</td>\n",
       "      <td>0.520000</td>\n",
       "    </tr>\n",
       "    <tr>\n",
       "      <th>75%</th>\n",
       "      <td>7.000000</td>\n",
       "      <td>5.000000</td>\n",
       "      <td>92.900000</td>\n",
       "      <td>142.400000</td>\n",
       "      <td>713.900000</td>\n",
       "      <td>10.800000</td>\n",
       "      <td>22.800000</td>\n",
       "      <td>53.000000</td>\n",
       "      <td>4.900000</td>\n",
       "      <td>0.000000</td>\n",
       "      <td>6.570000</td>\n",
       "    </tr>\n",
       "    <tr>\n",
       "      <th>max</th>\n",
       "      <td>9.000000</td>\n",
       "      <td>9.000000</td>\n",
       "      <td>96.200000</td>\n",
       "      <td>291.300000</td>\n",
       "      <td>860.600000</td>\n",
       "      <td>56.100000</td>\n",
       "      <td>33.300000</td>\n",
       "      <td>100.000000</td>\n",
       "      <td>9.400000</td>\n",
       "      <td>6.400000</td>\n",
       "      <td>1090.840000</td>\n",
       "    </tr>\n",
       "  </tbody>\n",
       "</table>\n",
       "</div>"
      ],
      "text/plain": [
       "                X           Y        FFMC         DMC          DC         ISI  \\\n",
       "count  517.000000  517.000000  517.000000  517.000000  517.000000  517.000000   \n",
       "mean     4.669246    4.299807   90.644681  110.872340  547.940039    9.021663   \n",
       "std      2.313778    1.229900    5.520111   64.046482  248.066192    4.559477   \n",
       "min      1.000000    2.000000   18.700000    1.100000    7.900000    0.000000   \n",
       "25%      3.000000    4.000000   90.200000   68.600000  437.700000    6.500000   \n",
       "50%      4.000000    4.000000   91.600000  108.300000  664.200000    8.400000   \n",
       "75%      7.000000    5.000000   92.900000  142.400000  713.900000   10.800000   \n",
       "max      9.000000    9.000000   96.200000  291.300000  860.600000   56.100000   \n",
       "\n",
       "             temp          RH        wind        rain         area  \n",
       "count  517.000000  517.000000  517.000000  517.000000   517.000000  \n",
       "mean    18.889168   44.288201    4.017602    0.021663    12.847292  \n",
       "std      5.806625   16.317469    1.791653    0.295959    63.655818  \n",
       "min      2.200000   15.000000    0.400000    0.000000     0.000000  \n",
       "25%     15.500000   33.000000    2.700000    0.000000     0.000000  \n",
       "50%     19.300000   42.000000    4.000000    0.000000     0.520000  \n",
       "75%     22.800000   53.000000    4.900000    0.000000     6.570000  \n",
       "max     33.300000  100.000000    9.400000    6.400000  1090.840000  "
      ]
     },
     "execution_count": 35,
     "metadata": {},
     "output_type": "execute_result"
    }
   ],
   "source": [
    "# Gives us a more detailed look at each of the columns in our dataset. Note that it \n",
    "# doesn't include non-numeric columns in this summary. \n",
    "df.describe()"
   ]
  },
  {
   "cell_type": "code",
   "execution_count": 31,
   "metadata": {
    "collapsed": false
   },
   "outputs": [
    {
     "data": {
      "text/html": [
       "<div>\n",
       "<table border=\"1\" class=\"dataframe\">\n",
       "  <thead>\n",
       "    <tr style=\"text-align: right;\">\n",
       "      <th></th>\n",
       "      <th>X</th>\n",
       "      <th>Y</th>\n",
       "      <th>month</th>\n",
       "      <th>day</th>\n",
       "      <th>FFMC</th>\n",
       "      <th>DMC</th>\n",
       "      <th>DC</th>\n",
       "      <th>ISI</th>\n",
       "      <th>temp</th>\n",
       "      <th>RH</th>\n",
       "      <th>wind</th>\n",
       "      <th>rain</th>\n",
       "      <th>area</th>\n",
       "    </tr>\n",
       "  </thead>\n",
       "  <tbody>\n",
       "    <tr>\n",
       "      <th>0</th>\n",
       "      <td>7</td>\n",
       "      <td>5</td>\n",
       "      <td>mar</td>\n",
       "      <td>fri</td>\n",
       "      <td>86.2</td>\n",
       "      <td>26.2</td>\n",
       "      <td>94.3</td>\n",
       "      <td>5.1</td>\n",
       "      <td>8.2</td>\n",
       "      <td>51</td>\n",
       "      <td>6.7</td>\n",
       "      <td>0.0</td>\n",
       "      <td>0</td>\n",
       "    </tr>\n",
       "    <tr>\n",
       "      <th>1</th>\n",
       "      <td>7</td>\n",
       "      <td>4</td>\n",
       "      <td>oct</td>\n",
       "      <td>tue</td>\n",
       "      <td>90.6</td>\n",
       "      <td>35.4</td>\n",
       "      <td>669.1</td>\n",
       "      <td>6.7</td>\n",
       "      <td>18.0</td>\n",
       "      <td>33</td>\n",
       "      <td>0.9</td>\n",
       "      <td>0.0</td>\n",
       "      <td>0</td>\n",
       "    </tr>\n",
       "    <tr>\n",
       "      <th>2</th>\n",
       "      <td>7</td>\n",
       "      <td>4</td>\n",
       "      <td>oct</td>\n",
       "      <td>sat</td>\n",
       "      <td>90.6</td>\n",
       "      <td>43.7</td>\n",
       "      <td>686.9</td>\n",
       "      <td>6.7</td>\n",
       "      <td>14.6</td>\n",
       "      <td>33</td>\n",
       "      <td>1.3</td>\n",
       "      <td>0.0</td>\n",
       "      <td>0</td>\n",
       "    </tr>\n",
       "    <tr>\n",
       "      <th>3</th>\n",
       "      <td>8</td>\n",
       "      <td>6</td>\n",
       "      <td>mar</td>\n",
       "      <td>fri</td>\n",
       "      <td>91.7</td>\n",
       "      <td>33.3</td>\n",
       "      <td>77.5</td>\n",
       "      <td>9.0</td>\n",
       "      <td>8.3</td>\n",
       "      <td>97</td>\n",
       "      <td>4.0</td>\n",
       "      <td>0.2</td>\n",
       "      <td>0</td>\n",
       "    </tr>\n",
       "    <tr>\n",
       "      <th>4</th>\n",
       "      <td>8</td>\n",
       "      <td>6</td>\n",
       "      <td>mar</td>\n",
       "      <td>sun</td>\n",
       "      <td>89.3</td>\n",
       "      <td>51.3</td>\n",
       "      <td>102.2</td>\n",
       "      <td>9.6</td>\n",
       "      <td>11.4</td>\n",
       "      <td>99</td>\n",
       "      <td>1.8</td>\n",
       "      <td>0.0</td>\n",
       "      <td>0</td>\n",
       "    </tr>\n",
       "  </tbody>\n",
       "</table>\n",
       "</div>"
      ],
      "text/plain": [
       "   X  Y month  day  FFMC   DMC     DC  ISI  temp  RH  wind  rain  area\n",
       "0  7  5   mar  fri  86.2  26.2   94.3  5.1   8.2  51   6.7   0.0     0\n",
       "1  7  4   oct  tue  90.6  35.4  669.1  6.7  18.0  33   0.9   0.0     0\n",
       "2  7  4   oct  sat  90.6  43.7  686.9  6.7  14.6  33   1.3   0.0     0\n",
       "3  8  6   mar  fri  91.7  33.3   77.5  9.0   8.3  97   4.0   0.2     0\n",
       "4  8  6   mar  sun  89.3  51.3  102.2  9.6  11.4  99   1.8   0.0     0"
      ]
     },
     "execution_count": 31,
     "metadata": {},
     "output_type": "execute_result"
    }
   ],
   "source": [
    "# Shows us the first 5 rows of our data set. \n",
    "df.head()"
   ]
  },
  {
   "cell_type": "code",
   "execution_count": 32,
   "metadata": {
    "collapsed": false
   },
   "outputs": [
    {
     "data": {
      "text/html": [
       "<div>\n",
       "<table border=\"1\" class=\"dataframe\">\n",
       "  <thead>\n",
       "    <tr style=\"text-align: right;\">\n",
       "      <th></th>\n",
       "      <th>X</th>\n",
       "      <th>Y</th>\n",
       "      <th>month</th>\n",
       "      <th>day</th>\n",
       "      <th>FFMC</th>\n",
       "      <th>DMC</th>\n",
       "      <th>DC</th>\n",
       "      <th>ISI</th>\n",
       "      <th>temp</th>\n",
       "      <th>RH</th>\n",
       "      <th>wind</th>\n",
       "      <th>rain</th>\n",
       "      <th>area</th>\n",
       "    </tr>\n",
       "  </thead>\n",
       "  <tbody>\n",
       "    <tr>\n",
       "      <th>512</th>\n",
       "      <td>4</td>\n",
       "      <td>3</td>\n",
       "      <td>aug</td>\n",
       "      <td>sun</td>\n",
       "      <td>81.6</td>\n",
       "      <td>56.7</td>\n",
       "      <td>665.6</td>\n",
       "      <td>1.9</td>\n",
       "      <td>27.8</td>\n",
       "      <td>32</td>\n",
       "      <td>2.7</td>\n",
       "      <td>0</td>\n",
       "      <td>6.44</td>\n",
       "    </tr>\n",
       "    <tr>\n",
       "      <th>513</th>\n",
       "      <td>2</td>\n",
       "      <td>4</td>\n",
       "      <td>aug</td>\n",
       "      <td>sun</td>\n",
       "      <td>81.6</td>\n",
       "      <td>56.7</td>\n",
       "      <td>665.6</td>\n",
       "      <td>1.9</td>\n",
       "      <td>21.9</td>\n",
       "      <td>71</td>\n",
       "      <td>5.8</td>\n",
       "      <td>0</td>\n",
       "      <td>54.29</td>\n",
       "    </tr>\n",
       "    <tr>\n",
       "      <th>514</th>\n",
       "      <td>7</td>\n",
       "      <td>4</td>\n",
       "      <td>aug</td>\n",
       "      <td>sun</td>\n",
       "      <td>81.6</td>\n",
       "      <td>56.7</td>\n",
       "      <td>665.6</td>\n",
       "      <td>1.9</td>\n",
       "      <td>21.2</td>\n",
       "      <td>70</td>\n",
       "      <td>6.7</td>\n",
       "      <td>0</td>\n",
       "      <td>11.16</td>\n",
       "    </tr>\n",
       "    <tr>\n",
       "      <th>515</th>\n",
       "      <td>1</td>\n",
       "      <td>4</td>\n",
       "      <td>aug</td>\n",
       "      <td>sat</td>\n",
       "      <td>94.4</td>\n",
       "      <td>146.0</td>\n",
       "      <td>614.7</td>\n",
       "      <td>11.3</td>\n",
       "      <td>25.6</td>\n",
       "      <td>42</td>\n",
       "      <td>4.0</td>\n",
       "      <td>0</td>\n",
       "      <td>0.00</td>\n",
       "    </tr>\n",
       "    <tr>\n",
       "      <th>516</th>\n",
       "      <td>6</td>\n",
       "      <td>3</td>\n",
       "      <td>nov</td>\n",
       "      <td>tue</td>\n",
       "      <td>79.5</td>\n",
       "      <td>3.0</td>\n",
       "      <td>106.7</td>\n",
       "      <td>1.1</td>\n",
       "      <td>11.8</td>\n",
       "      <td>31</td>\n",
       "      <td>4.5</td>\n",
       "      <td>0</td>\n",
       "      <td>0.00</td>\n",
       "    </tr>\n",
       "  </tbody>\n",
       "</table>\n",
       "</div>"
      ],
      "text/plain": [
       "     X  Y month  day  FFMC    DMC     DC   ISI  temp  RH  wind  rain   area\n",
       "512  4  3   aug  sun  81.6   56.7  665.6   1.9  27.8  32   2.7     0   6.44\n",
       "513  2  4   aug  sun  81.6   56.7  665.6   1.9  21.9  71   5.8     0  54.29\n",
       "514  7  4   aug  sun  81.6   56.7  665.6   1.9  21.2  70   6.7     0  11.16\n",
       "515  1  4   aug  sat  94.4  146.0  614.7  11.3  25.6  42   4.0     0   0.00\n",
       "516  6  3   nov  tue  79.5    3.0  106.7   1.1  11.8  31   4.5     0   0.00"
      ]
     },
     "execution_count": 32,
     "metadata": {},
     "output_type": "execute_result"
    }
   ],
   "source": [
    "# Shows us the last 5 rows of our data set. \n",
    "df.tail()"
   ]
  },
  {
   "cell_type": "markdown",
   "metadata": {
    "collapsed": true
   },
   "source": [
    "# List Comprehensions \n",
    "\n",
    "We're going to take a brief look at list comprehensions. List comprehensions are frequently used in Python in place of **for** loops, and so it's important to at least be able to recognize them (but also, they are incredibly efficient to use). \n",
    "\n",
    "### Basics\n",
    "\n",
    "List comprehensions are the same thing as a for loop that creates a list: \n",
    "\n",
    "```python \n",
    "doubles = []\n",
    "for num in xrange(10): \n",
    "    doubles.append(num * 2)\n",
    "``` \n",
    "\n",
    "is the **same** as: \n",
    "\n",
    "```python \n",
    "doubles = [num * 2 for num in xrange(10)]\n",
    "```\n",
    "\n",
    "### But why? \n",
    "\n",
    "List comprehensions are a more compact way of writing for loops that create lists (1 line of code above instead of 3). More importantly, though, is that they are much more efficient (they are heavily optimized in C)."
   ]
  },
  {
   "cell_type": "markdown",
   "metadata": {},
   "source": [
    "### What about more complicated list comprehensions? \n",
    "\n",
    "You'll often see (and maybe write) more complicated list comprehensions than those above. When writing them yourself, there is a tradeoff between readability and speed that you have to keep in mind. If you are writing code that becomes unwieldy and unreadable but doesn't have huge gains in efficiency (or maybe even if it does), consider writing it in a clearer manner (without a list comp.) even though it may be a little slower. This goes for all your code writing in general."
   ]
  },
  {
   "cell_type": "code",
   "execution_count": 4,
   "metadata": {
    "collapsed": false
   },
   "outputs": [],
   "source": [
    "num_pairs = [(num1, num2) for num1 in xrange(100) for num2 in xrange(100)]\n",
    "num_pairs = [(num1, num2) for num1 in xrange(100) for num2 in xrange(100) if num2 % 2 == 0]"
   ]
  },
  {
   "cell_type": "markdown",
   "metadata": {},
   "source": [
    "### List Comps. v Map and Filter\n",
    "\n",
    "In other programming languages (particularly functional ones), using something like a map or filter function is pretty common. "
   ]
  },
  {
   "cell_type": "code",
   "execution_count": 12,
   "metadata": {
    "collapsed": false
   },
   "outputs": [
    {
     "name": "stdout",
     "output_type": "stream",
     "text": [
      "[1, 4, 9, 16, 25]\n",
      "[1, 2, 3, 4, 5]\n"
     ]
    }
   ],
   "source": [
    "def square_num(x): \n",
    "    return x ** 2\n",
    "    \n",
    "def num_less_20(x): \n",
    "    return x < 20\n",
    "\n",
    "print map(square_num, [1, 2, 3, 4, 5]) # Return a list of the squares of all the numbers. \n",
    "print filter(num_less_20, [1, 2, 3, 4, 5, 25]) # Returns only those numbers less than 20. \n",
    "    "
   ]
  },
  {
   "cell_type": "markdown",
   "metadata": {},
   "source": [
    "However, in Python it is considered the norm. (and more Pythonic) to use list comprehensions to acheive the same thing. "
   ]
  },
  {
   "cell_type": "code",
   "execution_count": 15,
   "metadata": {
    "collapsed": false
   },
   "outputs": [
    {
     "name": "stdout",
     "output_type": "stream",
     "text": [
      "[1, 4, 9, 16, 25]\n",
      "[1, 2, 3, 4, 5]\n"
     ]
    }
   ],
   "source": [
    "print [x ** 2 for x in [1, 2, 3, 4, 5]]\n",
    "print [x for x in [1, 2, 3, 4, 5, 25] if x < 20]"
   ]
  }
 ],
 "metadata": {
  "kernelspec": {
   "display_name": "Python 2",
   "language": "python",
   "name": "python2"
  },
  "language_info": {
   "codemirror_mode": {
    "name": "ipython",
    "version": 2
   },
   "file_extension": ".py",
   "mimetype": "text/x-python",
   "name": "python",
   "nbconvert_exporter": "python",
   "pygments_lexer": "ipython2",
   "version": "2.7.10"
  }
 },
 "nbformat": 4,
 "nbformat_minor": 0
}
