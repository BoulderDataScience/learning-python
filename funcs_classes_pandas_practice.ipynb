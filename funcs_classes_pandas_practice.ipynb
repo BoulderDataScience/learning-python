{
 "cells": [
  {
   "cell_type": "markdown",
   "metadata": {},
   "source": [
    "# Practice with Functions\n",
    "\n",
    "### Finish these functions..."
   ]
  },
  {
   "cell_type": "code",
   "execution_count": 1,
   "metadata": {
    "collapsed": true
   },
   "outputs": [],
   "source": [
    "def factorial(number):\n",
    "    '''\n",
    "    Input: Integer\n",
    "    Output: Integer\n",
    "    \n",
    "    Compute the factorial for the given number. \n",
    "    '''\n",
    "    \n",
    "    fact = 1\n",
    "    for number in xrange(1, number + 1): \n",
    "        pass "
   ]
  },
  {
   "cell_type": "code",
   "execution_count": 2,
   "metadata": {
    "collapsed": true
   },
   "outputs": [],
   "source": [
    "def word_count(string): \n",
    "    '''\n",
    "    Input: String\n",
    "    Output: Dictionary \n",
    "    \n",
    "    For the inputted string, return a dictionary where the keys are the individual words, \n",
    "    and the values are the number of times that word appeared in the string. We're not \n",
    "    worried about punctuation at this point. \n",
    "    '''\n",
    "    words = string.split()\n",
    "    pass"
   ]
  },
  {
   "cell_type": "code",
   "execution_count": 7,
   "metadata": {
    "collapsed": true
   },
   "outputs": [],
   "source": [
    "def odd_sums(n): \n",
    "    '''\n",
    "    Input: Integer\n",
    "    Output: Integer\n",
    "    \n",
    "    Find the sum of all odd integers less than n. \n",
    "    '''\n",
    "    pass"
   ]
  },
  {
   "cell_type": "markdown",
   "metadata": {},
   "source": [
    "Now that you've finished, check out the *math* module, specifically the *factorial* function, and also the *collections* module, specifically the *Counter* class. "
   ]
  },
  {
   "cell_type": "markdown",
   "metadata": {},
   "source": [
    "# Practice with Classes\n",
    "\n",
    "Using the skeleton's below (which are based off the ones from the notes), build off of these classes to implement the following: \n",
    "\n",
    "1.) A `Member` class where each `Member` has the following **attributes**:  \n",
    "* age - Integer\n",
    "* name - Sring\n",
    "* hair color - String \n",
    "* favorite color - String\n",
    "* programming experience - String (make this one have a default value if not passed in upon instantiation)\n",
    "* words - List of Strings (this will be set as an empty list to begin)\n",
    "* foods - List of Strings (this will be set as an empty list to begin)\n",
    "* notes - List of Strings (this will be set as an empty list to begin)\n",
    "\n",
    "and the following **methods** (see the docstrings in the skeleton): \n",
    "* speaks\n",
    "* eats \n",
    "* writes \n",
    "\n",
    "2.) A `Meetup` class where each `Meetup` has the following **attributes**: \n",
    "* members - list of all the members in the Meetup\n",
    "* names - list of all the members names in the Meetup\n",
    "\n",
    "and the following **methods** (see the docstrings in the skeleton code): \n",
    "* get_menu\n",
    "* get_notes\n",
    "* get_transcript\n",
    "\n",
    "3.) Instantiate a `Member` for each member in your group, and then create an instance of the `Meetup` class you have created and fill it with your members. Double check that all of your code works and does what you expect when you're finished. "
   ]
  },
  {
   "cell_type": "code",
   "execution_count": 1,
   "metadata": {
    "collapsed": true
   },
   "outputs": [],
   "source": [
    "class Member(): \n",
    "    \n",
    "    def __init__(self): \n",
    "        # Define attributes here. \n",
    "        pass\n",
    "    \n",
    "    def speaks(self, phrase): \n",
    "        '''\n",
    "        Input: String\n",
    "        Output: Printed Statement, Saved phrase\n",
    "        \n",
    "        Print out the inputted phrase, as if they member is speaking. Also add it to \n",
    "        the words attribute for this member. Add a default to the inputted phrase argument \n",
    "        that is a phrase of your choosing. \n",
    "        '''\n",
    "        pass\n",
    "    \n",
    "    def eats(self, food): \n",
    "        '''\n",
    "        Input: String\n",
    "        Output: Saved food\n",
    "        \n",
    "        Add the inputted food to the foods attribute for this member, as if the member\n",
    "        was eating the food. Add a default to the inputted food argument that is a food \n",
    "        of your choosing. \n",
    "        '''\n",
    "        pass\n",
    "    \n",
    "    def writes(self, phrase): \n",
    "        '''\n",
    "        Input: String\n",
    "        Output: Saved Variable\n",
    "        \n",
    "        Add the inputted phrase to the notes attribute for this member. \n",
    "        '''\n",
    "        pass\n",
    "        "
   ]
  },
  {
   "cell_type": "code",
   "execution_count": 2,
   "metadata": {
    "collapsed": true
   },
   "outputs": [],
   "source": [
    "class Meetup(): \n",
    "    \n",
    "    def __init__(self, members):\n",
    "        # Define attributes here. \n",
    "        pass \n",
    "    \n",
    "    def get_menu(self): \n",
    "        '''\n",
    "        Input: None\n",
    "        Output: Printed statement\n",
    "        \n",
    "        Print out all of the foods eaten by any of the members in the meetup (i.e. in this\n",
    "        class). \n",
    "        '''\n",
    "        pass\n",
    "    \n",
    "    def get_notes(self): \n",
    "        '''\n",
    "        Input: None\n",
    "        Output: Printed Statement\n",
    "        \n",
    "        Print out a word count of all of the words spoken by any of the \n",
    "        members in the meetup (i.e. in this class). \n",
    "        '''\n",
    "        pass\n",
    "    \n",
    "    def get_transcript(self): \n",
    "        '''\n",
    "        Input: None\n",
    "        Output: Printed Statement\n",
    "        \n",
    "        Print out only those unique words in any of the notes of the members \n",
    "        in the meetup (i.e. in this class). \n",
    "        '''\n",
    "        pass"
   ]
  },
  {
   "cell_type": "markdown",
   "metadata": {
    "collapsed": true
   },
   "source": [
    "# Practice with Imports \n",
    "\n",
    "To get some practice with what the kind of general workflow is in Python (where you build functions in certain files, then import those functions to use in your program), take each of the functions you finished in the first part, and save in its own file (so  you should have 3 files). Next, write a new script/python program that imports each of these functions and calls it. "
   ]
  },
  {
   "cell_type": "code",
   "execution_count": null,
   "metadata": {
    "collapsed": true
   },
   "outputs": [],
   "source": []
  }
 ],
 "metadata": {
  "kernelspec": {
   "display_name": "Python 2",
   "language": "python",
   "name": "python2"
  },
  "language_info": {
   "codemirror_mode": {
    "name": "ipython",
    "version": 2
   },
   "file_extension": ".py",
   "mimetype": "text/x-python",
   "name": "python",
   "nbconvert_exporter": "python",
   "pygments_lexer": "ipython2",
   "version": "2.7.10"
  }
 },
 "nbformat": 4,
 "nbformat_minor": 0
}
